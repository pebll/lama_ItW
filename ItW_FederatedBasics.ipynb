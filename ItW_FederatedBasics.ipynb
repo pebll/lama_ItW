{
  "cells": [
    {
      "cell_type": "markdown",
      "source": [
        "# Project Lama Into the Wild:Federated Learning\n",
        "<b>Group Number: 13</b><br>\n",
        "<b>Name Group Member 1: Léo Brucker</b><br>\n",
        "<b>u-Kürzel Group Member 1: uhugu</b><br>\n",
        "<b>Name Group Member 2: Cyril Rudolph</b><br>\n",
        "<b>u-Kürzel Group Member 2: udjvh</b>\n",
        "\n",
        "### Primary Milestone:\n",
        "Understand the function & problems of Federated learning and class imbalance by first trying to apply a model that can transfer the “global model” onto local small datasets (defined by different clients in the EMNIST dataset).\n",
        "\n",
        "### Roadmap\n",
        "1. Explore the dataset and construct a Federated Learning Model based of EMNIST\n",
        "2. Experiment with different changeable features (Client Count & Sizes, Number of different labels) and Compare the changes with the parameters proposed in the paper about Class Imbalance\n",
        "3. Optimizing the CNN directly for federated Learning could lead to better performance\n",
        "4. Using different Merge Strategies to form the new global model could also result in more efficiency (faster convergence, less epochs)"
      ],
      "metadata": {
        "id": "FqKvlWGyWr5p"
      }
    },
    {
      "cell_type": "markdown",
      "source": [
        "# Preparation"
      ],
      "metadata": {
        "id": "ms1DURr0XCJB"
      }
    },
    {
      "cell_type": "markdown",
      "source": [
        "### Installs and Imports\n",
        "Install flower, torch, torchvision, flower datasets & jax"
      ],
      "metadata": {
        "id": "v1684V03m5Wl"
      }
    },
    {
      "cell_type": "code",
      "execution_count": null,
      "metadata": {
        "id": "kfmSAOZm1nfw",
        "colab": {
          "base_uri": "https://localhost:8080/"
        },
        "outputId": "93d936f9-d1d3-48ab-f053-238aa2e7aa26"
      },
      "outputs": [
        {
          "output_type": "stream",
          "name": "stdout",
          "text": [
            "\u001b[2K     \u001b[90m━━━━━━━━━━━━━━━━━━━━━━━━━━━━━━━━━━━━━━━━\u001b[0m \u001b[32m235.0/235.0 kB\u001b[0m \u001b[31m5.1 MB/s\u001b[0m eta \u001b[36m0:00:00\u001b[0m\n",
            "\u001b[2K     \u001b[90m━━━━━━━━━━━━━━━━━━━━━━━━━━━━━━━━━━━━━━━━\u001b[0m \u001b[32m4.4/4.4 MB\u001b[0m \u001b[31m82.0 MB/s\u001b[0m eta \u001b[36m0:00:00\u001b[0m\n",
            "\u001b[2K     \u001b[90m━━━━━━━━━━━━━━━━━━━━━━━━━━━━━━━━━━━━━━━━\u001b[0m \u001b[32m294.6/294.6 kB\u001b[0m \u001b[31m26.1 MB/s\u001b[0m eta \u001b[36m0:00:00\u001b[0m\n",
            "\u001b[2K     \u001b[90m━━━━━━━━━━━━━━━━━━━━━━━━━━━━━━━━━━━━━━━━\u001b[0m \u001b[32m2.1/2.1 MB\u001b[0m \u001b[31m50.8 MB/s\u001b[0m eta \u001b[36m0:00:00\u001b[0m\n",
            "\u001b[2K     \u001b[90m━━━━━━━━━━━━━━━━━━━━━━━━━━━━━━━━━━━━━━━━\u001b[0m \u001b[32m3.1/3.1 MB\u001b[0m \u001b[31m63.3 MB/s\u001b[0m eta \u001b[36m0:00:00\u001b[0m\n",
            "\u001b[2K     \u001b[90m━━━━━━━━━━━━━━━━━━━━━━━━━━━━━━━━━━━━━━━━\u001b[0m \u001b[32m56.9/56.9 MB\u001b[0m \u001b[31m11.6 MB/s\u001b[0m eta \u001b[36m0:00:00\u001b[0m\n",
            "\u001b[2K     \u001b[90m━━━━━━━━━━━━━━━━━━━━━━━━━━━━━━━━━━━━━━━━\u001b[0m \u001b[32m536.6/536.6 kB\u001b[0m \u001b[31m38.8 MB/s\u001b[0m eta \u001b[36m0:00:00\u001b[0m\n",
            "\u001b[2K     \u001b[90m━━━━━━━━━━━━━━━━━━━━━━━━━━━━━━━━━━━━━━━━\u001b[0m \u001b[32m38.3/38.3 MB\u001b[0m \u001b[31m29.3 MB/s\u001b[0m eta \u001b[36m0:00:00\u001b[0m\n",
            "\u001b[2K     \u001b[90m━━━━━━━━━━━━━━━━━━━━━━━━━━━━━━━━━━━━━━━━\u001b[0m \u001b[32m116.3/116.3 kB\u001b[0m \u001b[31m13.4 MB/s\u001b[0m eta \u001b[36m0:00:00\u001b[0m\n",
            "\u001b[2K     \u001b[90m━━━━━━━━━━━━━━━━━━━━━━━━━━━━━━━━━━━━━━━━\u001b[0m \u001b[32m134.8/134.8 kB\u001b[0m \u001b[31m16.1 MB/s\u001b[0m eta \u001b[36m0:00:00\u001b[0m\n",
            "\u001b[?25h\u001b[31mERROR: pip's dependency resolver does not currently take into account all the packages that are installed. This behaviour is the source of the following dependency conflicts.\n",
            "lida 0.0.10 requires fastapi, which is not installed.\n",
            "lida 0.0.10 requires kaleido, which is not installed.\n",
            "lida 0.0.10 requires python-multipart, which is not installed.\n",
            "lida 0.0.10 requires uvicorn, which is not installed.\n",
            "llmx 0.0.15a0 requires cohere, which is not installed.\n",
            "llmx 0.0.15a0 requires openai, which is not installed.\n",
            "llmx 0.0.15a0 requires tiktoken, which is not installed.\n",
            "ibis-framework 7.1.0 requires pyarrow<15,>=2, but you have pyarrow 15.0.0 which is incompatible.\n",
            "tensorboard 2.15.1 requires protobuf<4.24,>=3.19.6, but you have protobuf 4.25.2 which is incompatible.\n",
            "tensorflow-metadata 1.14.0 requires protobuf<4.21,>=3.20.3, but you have protobuf 4.25.2 which is incompatible.\u001b[0m\u001b[31m\n",
            "\u001b[0mRequirement already satisfied: flwr in /usr/local/lib/python3.10/dist-packages (1.7.0)\n",
            "Requirement already satisfied: jax in /usr/local/lib/python3.10/dist-packages (0.4.23)\n",
            "Collecting jax\n",
            "  Downloading jax-0.4.24-py3-none-any.whl (1.8 MB)\n",
            "\u001b[2K     \u001b[90m━━━━━━━━━━━━━━━━━━━━━━━━━━━━━━━━━━━━━━━━\u001b[0m \u001b[32m1.8/1.8 MB\u001b[0m \u001b[31m23.5 MB/s\u001b[0m eta \u001b[36m0:00:00\u001b[0m\n",
            "\u001b[?25hRequirement already satisfied: cryptography<42.0.0,>=41.0.2 in /usr/local/lib/python3.10/dist-packages (from flwr) (41.0.7)\n",
            "Requirement already satisfied: grpcio<2.0.0,>=1.60.0 in /usr/local/lib/python3.10/dist-packages (from flwr) (1.60.1)\n",
            "Requirement already satisfied: iterators<0.0.3,>=0.0.2 in /usr/local/lib/python3.10/dist-packages (from flwr) (0.0.2)\n",
            "Requirement already satisfied: numpy<2.0.0,>=1.21.0 in /usr/local/lib/python3.10/dist-packages (from flwr) (1.23.5)\n",
            "Requirement already satisfied: protobuf<5.0.0,>=4.25.2 in /usr/local/lib/python3.10/dist-packages (from flwr) (4.25.2)\n",
            "Requirement already satisfied: pycryptodome<4.0.0,>=3.18.0 in /usr/local/lib/python3.10/dist-packages (from flwr) (3.20.0)\n",
            "Requirement already satisfied: ml-dtypes>=0.2.0 in /usr/local/lib/python3.10/dist-packages (from jax) (0.2.0)\n",
            "Requirement already satisfied: opt-einsum in /usr/local/lib/python3.10/dist-packages (from jax) (3.3.0)\n",
            "Requirement already satisfied: scipy>=1.9 in /usr/local/lib/python3.10/dist-packages (from jax) (1.11.4)\n",
            "Requirement already satisfied: cffi>=1.12 in /usr/local/lib/python3.10/dist-packages (from cryptography<42.0.0,>=41.0.2->flwr) (1.16.0)\n",
            "Requirement already satisfied: pycparser in /usr/local/lib/python3.10/dist-packages (from cffi>=1.12->cryptography<42.0.0,>=41.0.2->flwr) (2.21)\n",
            "Installing collected packages: jax\n",
            "  Attempting uninstall: jax\n",
            "    Found existing installation: jax 0.4.23\n",
            "    Uninstalling jax-0.4.23:\n",
            "      Successfully uninstalled jax-0.4.23\n",
            "Successfully installed jax-0.4.24\n"
          ]
        }
      ],
      "source": [
        "# depending on your shell, you might need to add `\\` before `[` and `]`.\n",
        "!pip install -q flwr[simulation] torch torchvision flwr_datasets\n",
        "!pip install --upgrade flwr jax\n",
        "\n",
        "# you might see a warning after running the command below, this can be ignored\n",
        "#!pip install torch==1.13.1+cpu torchvision==0.14.1+cpu torchaudio==0.13.1 --extra-index-url https://download.pytorch.org/whl/cpu"
      ]
    },
    {
      "cell_type": "markdown",
      "source": [
        "Import all the libraries we need, a lot of them weren't installed, because they are already a standard library in the colab environment."
      ],
      "metadata": {
        "id": "Ql0lL-QinFTe"
      }
    },
    {
      "cell_type": "code",
      "execution_count": null,
      "metadata": {
        "colab": {
          "base_uri": "https://localhost:8080/"
        },
        "outputId": "80d884e0-559e-4f61-9847-e3adb27411fb",
        "id": "UUNufHvi1nfz"
      },
      "outputs": [
        {
          "output_type": "stream",
          "name": "stdout",
          "text": [
            "Training on cpu using PyTorch 2.1.0+cu121 and Flower 1.7.0\n"
          ]
        }
      ],
      "source": [
        "import numpy as np\n",
        "from tqdm import tqdm\n",
        "import torch\n",
        "import torch.nn as nn\n",
        "import torch.optim as optim\n",
        "import torch.nn.functional as F\n",
        "import torchvision.transforms as transforms\n",
        "import torchvision.datasets as datasets\n",
        "from torch.utils.data import DataLoader, random_split\n",
        "import matplotlib.pyplot as plt\n",
        "from torchvision.transforms import ToTensor, Normalize, Compose, ToPILImage\n",
        "from torchvision.datasets import EMNIST\n",
        "import jax\n",
        "import matplotlib.pyplot as plt\n",
        "from collections import OrderedDict\n",
        "from typing import Dict, Tuple\n",
        "from flwr.common import NDArrays, Scalar\n",
        "import random\n",
        "import flwr as fl\n",
        "from flwr_datasets import FederatedDataset\n",
        "import h5py\n",
        "from google.colab import drive\n",
        "import math\n",
        "from datetime import datetime\n",
        "\n",
        "DEVICE = torch.device(\"cuda\" if torch.cuda.is_available() else \"cpu\")\n",
        "print(\n",
        "    f\"Training on {DEVICE} using PyTorch {torch.__version__} and Flower {fl.__version__}\"\n",
        ")"
      ]
    },
    {
      "cell_type": "markdown",
      "metadata": {
        "id": "G2_AiAfz1nf0"
      },
      "source": [
        "# The Models"
      ]
    },
    {
      "cell_type": "markdown",
      "source": [
        "## Centralized Baseline Model\n",
        "\n",
        "We will first train a \"traditional\" Machine Learning Model, assumming that all our data is centralized. This will be our optimal result when comparing to the other techniques where the data is not centralized anymore.\n",
        "### Centralized dataset\n",
        "\n",
        "Creating the centralized dataset and shaping it so that it is processable by Torch. Torch already provides the emnist digits dataset, so no need to centralize the other one."
      ],
      "metadata": {
        "id": "BrtF9COQX_uh"
      }
    },
    {
      "cell_type": "code",
      "execution_count": null,
      "metadata": {
        "id": "VS9pcXiT1nf1",
        "colab": {
          "base_uri": "https://localhost:8080/"
        },
        "outputId": "5cac9465-5f0c-4945-b527-1ac873b84ed6"
      },
      "outputs": [
        {
          "output_type": "stream",
          "name": "stderr",
          "text": [
            "/usr/local/lib/python3.10/dist-packages/ipykernel/ipkernel.py:283: DeprecationWarning: `should_run_async` will not call `transform_cell` automatically in the future. Please pass the result to `transformed_cell` argument and any exception that happen during thetransform in `preprocessing_exc_tuple` in IPython 7.17 and above.\n",
            "  and should_run_async(code)\n"
          ]
        },
        {
          "output_type": "stream",
          "name": "stdout",
          "text": [
            "Downloading https://www.itl.nist.gov/iaui/vip/cs_links/EMNIST/gzip.zip to ./data/EMNIST/raw/gzip.zip\n"
          ]
        },
        {
          "output_type": "stream",
          "name": "stderr",
          "text": [
            "100%|██████████| 561753746/561753746 [00:04<00:00, 117064128.38it/s]\n"
          ]
        },
        {
          "output_type": "stream",
          "name": "stdout",
          "text": [
            "Extracting ./data/EMNIST/raw/gzip.zip to ./data/EMNIST/raw\n"
          ]
        }
      ],
      "source": [
        "SPLIT = \"balanced\"\n",
        "\n",
        "emnist_train = EMNIST(root='./data', split=SPLIT, train = True, download=True)\n",
        "mean = emnist_train.data.float().mean() / 255\n",
        "std = emnist_train.data.float().std() / 255\n",
        "EMNIST_TRANSFORM = Compose([ToTensor(),Normalize(mean, std)])\n",
        "\n",
        "\n",
        "def get_mnist(data_path: str = \"./data\"):\n",
        "    \"\"\"This function downloads the MNIST dataset into the `data_path`\n",
        "    directory if it is not there already. WE construct the train/test\n",
        "    split by converting the images into tensors and normalising them\"\"\"\n",
        "\n",
        "    # prepare train and test set\n",
        "    trainset = EMNIST(data_path, split=SPLIT, train=True, download=True, transform=EMNIST_TRANSFORM)\n",
        "    testset = EMNIST(data_path, split=SPLIT, train=False, download=True, transform=EMNIST_TRANSFORM)\n",
        "\n",
        "    return trainset, testset"
      ]
    },
    {
      "cell_type": "markdown",
      "metadata": {
        "id": "hf-BfgFG1nf2"
      },
      "source": [
        "Let's run the code above and do some visualisations to understand better the data we are working with !"
      ]
    },
    {
      "cell_type": "code",
      "execution_count": null,
      "metadata": {
        "id": "zULWv9VC1nf2",
        "colab": {
          "base_uri": "https://localhost:8080/"
        },
        "outputId": "c417c2fc-129c-4866-a372-7bee7c40c5ea"
      },
      "outputs": [
        {
          "output_type": "execute_result",
          "data": {
            "text/plain": [
              "Dataset EMNIST\n",
              "    Number of datapoints: 112800\n",
              "    Root location: ./data\n",
              "    Split: Train\n",
              "    StandardTransform\n",
              "Transform: Compose(\n",
              "               ToTensor()\n",
              "               Normalize(mean=0.17510418593883514, std=0.3332371413707733)\n",
              "           )"
            ]
          },
          "metadata": {},
          "execution_count": 4
        }
      ],
      "source": [
        "trainset, testset = get_mnist()\n",
        "trainset"
      ]
    },
    {
      "cell_type": "markdown",
      "metadata": {
        "id": "WKs3RWro1nf3"
      },
      "source": [
        "## Visualisation of the dataset\n",
        "Let's create a more insightful visualisation. First let's see the distribution over the labels by constructing a histogram. Then, let's visualise some training examples !"
      ]
    },
    {
      "cell_type": "code",
      "execution_count": null,
      "metadata": {
        "colab": {
          "base_uri": "https://localhost:8080/",
          "height": 507
        },
        "outputId": "7890a3a5-d4e2-41f3-e931-b3c693325e16",
        "id": "8Ibyay2V1nf3"
      },
      "outputs": [
        {
          "output_type": "stream",
          "name": "stdout",
          "text": [
            "tensor([45, 36, 43,  ..., 23, 31,  8])\n",
            "47\n"
          ]
        },
        {
          "output_type": "display_data",
          "data": {
            "text/plain": [
              "<Figure size 640x480 with 1 Axes>"
            ],
            "image/png": "[encoded data removed]"
          },
          "metadata": {}
        }
      ],
      "source": [
        "# construct histogram\n",
        "all_labels = trainset.targets\n",
        "num_possible_labels = len(\n",
        "    set(all_labels.numpy().tolist())\n",
        ")  # this counts unique labels (so it should be with mnist = 10)\n",
        "plt.hist(all_labels, bins=num_possible_labels)\n",
        "\n",
        "# plot formatting\n",
        "plt.xticks(range(num_possible_labels))\n",
        "plt.grid()\n",
        "plt.xlabel(\"Label\")\n",
        "plt.ylabel(\"Number of images\")\n",
        "plt.title(\"Class labels distribution for EMNIST\")\n",
        "print(all_labels)\n",
        "print(len(set(all_labels.numpy().tolist())))"
      ]
    },
    {
      "cell_type": "code",
      "source": [
        "# MID functions outside the model, as it is a \"global\"- Calculation for the parameters we put in\n",
        "def calculate_MID(trainset):\n",
        "    n_values = trainset.targets\n",
        "    num_classes = len(set(all_labels.numpy().tolist())) # or just NUM_CLASSES\n",
        "    N = sum(n_values)  # Total number of instances\n",
        "    MID = 0.0\n",
        "\n",
        "    for c in range(num_classes):\n",
        "        n_c = torch.sum(n_values == c).item()  # Number of instances in class c\n",
        "        MID += (n_c / N) * math.log(num_classes * n_c / N, num_classes)\n",
        "\n",
        "    return MID"
      ],
      "metadata": {
        "id": "N044PJZTvfaY"
      },
      "execution_count": null,
      "outputs": []
    },
    {
      "cell_type": "markdown",
      "metadata": {
        "id": "zqSiESUO1nf3"
      },
      "source": [
        "Let's visualise 32 images from the dataset\n"
      ]
    },
    {
      "cell_type": "code",
      "execution_count": null,
      "metadata": {
        "id": "sKjMM3_O1nf4"
      },
      "outputs": [],
      "source": [
        "def visualise_n_random_examples(trainset_, n: int, verbose: bool = True):\n",
        "    # take n examples at random\n",
        "    idx = list(range(len(trainset_.data)))\n",
        "    random.shuffle(idx)\n",
        "    idx = idx[:n]\n",
        "    if verbose:\n",
        "        print(f\"will display images with idx: {idx}\")\n",
        "\n",
        "    # construct canvas\n",
        "    num_cols = 8\n",
        "    num_rows = int(np.ceil(len(idx) / num_cols))\n",
        "    fig, axs = plt.subplots(figsize=(16, num_rows * 2), nrows=num_rows, ncols=num_cols)\n",
        "\n",
        "    # display images on canvas\n",
        "    for c_i, i in enumerate(idx):\n",
        "        axs.flat[c_i].imshow(trainset_.data[i], cmap=\"gray\")"
      ]
    },
    {
      "cell_type": "code",
      "execution_count": null,
      "metadata": {
        "colab": {
          "base_uri": "https://localhost:8080/",
          "height": 381
        },
        "outputId": "5fdcf00a-a2af-4f09-f86c-3935ac0206c7",
        "id": "PNGD72rz1nf4"
      },
      "outputs": [
        {
          "output_type": "stream",
          "name": "stdout",
          "text": [
            "will display images with idx: [81991, 83634, 46650, 13981, 34933, 3784, 4266, 11647, 74660, 14954, 71512, 100458, 32282, 101366, 26391, 96124, 24502, 34233, 96709, 1473, 105450, 9027, 15545, 73955, 94983, 111581, 28594, 27514, 45410, 4488, 27170, 13978]\n"
          ]
        },
        {
          "output_type": "display_data",
          "data": {
            "text/plain": [
              "<Figure size 1600x800 with 32 Axes>"
            ],
            "image/png": "[encoded data removed]"
          },
          "metadata": {}
        }
      ],
      "source": [
        "visualise_n_random_examples(trainset, n=32)"
      ]
    },
    {
      "cell_type": "markdown",
      "metadata": {
        "id": "1blLH-cK1nf5"
      },
      "source": [
        "### Centralized CNN Model Definition\n",
        "\n",
        "\n",
        "Now that we have our dataset, we can construct a simple CNN model that will train on this dataset.\n",
        "\n"
      ]
    },
    {
      "cell_type": "code",
      "execution_count": null,
      "metadata": {
        "id": "_vy7MJq71nf5"
      },
      "outputs": [],
      "source": [
        "# Define different types of CNN Models\n",
        "\n",
        "class TutorialNet(nn.Module):\n",
        "    def __init__(self, num_classes: int) -> None:\n",
        "        super(TutorialNet, self).__init__()\n",
        "        self.conv1 = nn.Conv2d(1, 6, 5)\n",
        "        self.pool = nn.MaxPool2d(2, 2)\n",
        "        self.conv2 = nn.Conv2d(6, 16, 5)\n",
        "        self.fc1 = nn.Linear(16 * 4 * 4, 120)\n",
        "        self.fc2 = nn.Linear(120, 84)\n",
        "        self.fc3 = nn.Linear(84, num_classes)\n",
        "\n",
        "    def forward(self, x: torch.Tensor) -> torch.Tensor:\n",
        "        x = self.pool(F.relu(self.conv1(x)))\n",
        "        x = self.pool(F.relu(self.conv2(x)))\n",
        "        x = x.view(-1, 16 * 4 * 4)\n",
        "        x = F.relu(self.fc1(x))\n",
        "        x = F.relu(self.fc2(x))\n",
        "        x = self.fc3(x)\n",
        "        return x\n",
        "\n",
        "class InterNet(nn.Module):\n",
        "    def __init__(self, num_classes, fmaps1 = 40, fmaps2 = 160, dense = 200, dropout = 0.4):\n",
        "        super(InterNet, self).__init__()\n",
        "        self.conv1 = nn.Sequential(\n",
        "            nn.Conv2d(in_channels=1, out_channels=fmaps1, kernel_size=5, stride=1, padding='same'),\n",
        "            nn.LeakyReLU(),\n",
        "            nn.MaxPool2d(kernel_size=2),\n",
        "        )\n",
        "        self.conv2 = nn.Sequential(\n",
        "            nn.Conv2d(in_channels=fmaps1, out_channels=fmaps2, kernel_size=5, stride=1, padding='same'),\n",
        "            nn.LeakyReLU(),\n",
        "            nn.MaxPool2d(kernel_size=2),\n",
        "        )\n",
        "        self.fcon1 = nn.Sequential(nn.Linear(49*fmaps2, dense), nn.LeakyReLU())\n",
        "        self.fcon2 = nn.Linear(dense, num_classes)\n",
        "        self.dropout = nn.Dropout(p=dropout)\n",
        "\n",
        "    def forward(self, x):\n",
        "        x = self.conv1(x)\n",
        "        x = self.conv2(x)\n",
        "        x = x.view(x.size(0), -1)\n",
        "        x = self.dropout(self.fcon1(x))\n",
        "        x = self.fcon2(x)\n",
        "        return x\n",
        "\n",
        "class ChatGPTNet(nn.Module):\n",
        "    def __init__(self, num_classes):\n",
        "        super(ChatGPTNet, self).__init__()\n",
        "        self.conv1 = nn.Conv2d(1, 32, kernel_size=3, stride=1, padding=1)\n",
        "        self.relu = nn.ReLU()\n",
        "        self.maxpool = nn.MaxPool2d(kernel_size=2, stride=2)\n",
        "        self.conv2 = nn.Conv2d(32, 64, kernel_size=3, stride=1, padding=1)\n",
        "        self.fc1 = nn.Linear(64 * 7 * 7, 128)\n",
        "        self.fc2 = nn.Linear(128, num_classes)  # Assuming 10 classes (digits 0-9)\n",
        "\n",
        "    def forward(self, x):\n",
        "        x = self.conv1(x)\n",
        "        x = self.relu(x)\n",
        "        x = self.maxpool(x)\n",
        "        x = self.conv2(x)\n",
        "        x = self.relu(x)\n",
        "        x = self.maxpool(x)\n",
        "        x = x.view(x.size(0), -1)\n",
        "        x = self.fc1(x)\n",
        "        x = self.relu(x)\n",
        "        x = self.fc2(x)\n",
        "        return x"
      ]
    },
    {
      "cell_type": "markdown",
      "metadata": {
        "id": "PDc0peS21nf5"
      },
      "source": [
        "Similarly to what we did with the dataset you could inspect the model in various ways. We can, for instance, count the number of model parameters."
      ]
    },
    {
      "cell_type": "code",
      "execution_count": null,
      "metadata": {
        "colab": {
          "base_uri": "https://localhost:8080/"
        },
        "outputId": "60b11e61-ba78-477d-8b43-3b1b40caecd0",
        "id": "msCusp7e1nf5"
      },
      "outputs": [
        {
          "output_type": "stream",
          "name": "stdout",
          "text": [
            "num_parameters = 47571\n"
          ]
        }
      ],
      "source": [
        "model = TutorialNet(num_classes=47)\n",
        "num_parameters = sum(value.numel() for value in model.state_dict().values())\n",
        "print(f\"{num_parameters = }\")"
      ]
    },
    {
      "cell_type": "markdown",
      "metadata": {
        "id": "w7M57_yT1nf6"
      },
      "source": [
        "## The Training Loops\n",
        "\n",
        "We have defined three Baseline Models:\n",
        "  - TutorialNet\n",
        "  - InterNet: A basic non-optimized CNN implementation\n",
        "  - ChatGPTNet: A optimized CNN to our dataset (courtesy of GitHub/austin-hill)\n",
        "  \n",
        "Its time to define and afterwards train the Models\n"
      ]
    },
    {
      "cell_type": "code",
      "execution_count": null,
      "metadata": {
        "id": "vcOvbgZk1nf6"
      },
      "outputs": [],
      "source": [
        "def train(net, trainloader, optimizer, epochs):\n",
        "    \"\"\"Train the network on the training set.\"\"\"\n",
        "    criterion = torch.nn.CrossEntropyLoss()\n",
        "    net.train()\n",
        "    for _ in range(epochs):\n",
        "        for images, labels in trainloader:\n",
        "            optimizer.zero_grad()\n",
        "            loss = criterion(net(images), labels)\n",
        "            loss.backward()\n",
        "            optimizer.step()\n",
        "    return net\n",
        "\n",
        "\n",
        "def test(net, testloader):\n",
        "    \"\"\"Validate the network on the entire test set.\"\"\"\n",
        "    criterion = torch.nn.CrossEntropyLoss()\n",
        "    correct, loss = 0, 0.0\n",
        "    net.eval()\n",
        "    with torch.no_grad():\n",
        "        for images, labels in testloader:\n",
        "            outputs = net(images)\n",
        "            loss += criterion(outputs, labels).item()\n",
        "            _, predicted = torch.max(outputs.data, 1)\n",
        "            correct += (predicted == labels).sum().item()\n",
        "    accuracy = correct / len(testloader.dataset)\n",
        "    return loss, accuracy\n",
        "\n",
        "\n",
        "def run_centralised(epochs: int, lr: float, momentum: float = 0.9):\n",
        "    \"\"\"A minimal (but complete) training loop\"\"\"\n",
        "\n",
        "    # instantiate the model\n",
        "    model = TutorialNet(num_classes=47)\n",
        "\n",
        "    # define optimiser with hyperparameters supplied\n",
        "    optim = torch.optim.SGD(model.parameters(), lr=lr, momentum=momentum)\n",
        "\n",
        "    # get dataset and construct a dataloaders\n",
        "    trainset, testset = get_mnist()\n",
        "    trainloader = DataLoader(trainset, batch_size=64, shuffle=True, num_workers=2)\n",
        "    testloader = DataLoader(testset, batch_size=128)\n",
        "\n",
        "    # train for the specified number of epochs\n",
        "    trained_model = train(model, trainloader, optim, epochs)\n",
        "\n",
        "    # training is completed, then evaluate model on the test set\n",
        "    loss, accuracy = test(trained_model, testloader)\n",
        "    print(f\"{loss = }\")\n",
        "    print(f\"{accuracy = }\")"
      ]
    },
    {
      "cell_type": "markdown",
      "source": [
        "### Centralised Test Baseline EMNIST"
      ],
      "metadata": {
        "id": "UASAf8pWevKY"
      }
    },
    {
      "cell_type": "code",
      "execution_count": null,
      "metadata": {
        "id": "kS9mCrGP1nf6",
        "colab": {
          "base_uri": "https://localhost:8080/"
        },
        "outputId": "4d79f899-f043-40e6-a0bd-5fe321e9bee5"
      },
      "outputs": [
        {
          "output_type": "stream",
          "name": "stderr",
          "text": [
            "/usr/lib/python3.10/multiprocessing/popen_fork.py:66: RuntimeWarning: os.fork() was called. os.fork() is incompatible with multithreaded code, and JAX is multithreaded, so this will likely lead to a deadlock.\n",
            "  self.pid = os.fork()\n"
          ]
        },
        {
          "output_type": "stream",
          "name": "stdout",
          "text": [
            "loss = 62.34884126484394\n",
            "accuracy = 0.8518617021276595\n"
          ]
        }
      ],
      "source": [
        "run_centralised(epochs=5, lr=0.01)"
      ]
    },
    {
      "cell_type": "markdown",
      "metadata": {
        "id": "RhPm_Ufq1nf7"
      },
      "source": [
        "## Create the federated Dataset\n",
        "\n",
        "To start designing a Federated Learning pipeline we need to meet one of the key properties in FL: each client has its own data partition. To accomplish this with the EMNIST dataset, we are going to generate N random partitions, where N is the total number of clients in our FL system."
      ]
    },
    {
      "cell_type": "code",
      "execution_count": null,
      "metadata": {
        "id": "7xmAdYHe1nf7"
      },
      "outputs": [],
      "source": [
        "def prepare_dataset(num_partitions: int, batch_size: int, val_ratio: float = 0.1):\n",
        "    \"\"\"This function partitions the training set into N disjoint\n",
        "    subsets, each will become the local dataset of a client. This\n",
        "    function also subsequently partitions each traininset partition\n",
        "    into train and validation. The test set is left intact and will\n",
        "    be used by the central server to asses the performance of the\n",
        "    global model.\"\"\"\n",
        "\n",
        "    # get the MNIST dataset\n",
        "    trainset, testset = get_mnist()\n",
        "\n",
        "    # split trainset into `num_partitions` trainsets\n",
        "    num_images = len(trainset) // num_partitions\n",
        "\n",
        "    partition_len = [num_images] * num_partitions\n",
        "\n",
        "    trainsets = random_split(\n",
        "        trainset, partition_len, torch.Generator().manual_seed(2023)\n",
        "    )\n",
        "\n",
        "    # create dataloaders with train+val support\n",
        "    trainloaders = []\n",
        "    valloaders = []\n",
        "    for trainset_ in trainsets:\n",
        "        num_total = len(trainset_)\n",
        "        num_val = int(val_ratio * num_total)\n",
        "        num_train = num_total - num_val\n",
        "\n",
        "        for_train, for_val = random_split(\n",
        "            trainset_, [num_train, num_val], torch.Generator().manual_seed(2023)\n",
        "        )\n",
        "\n",
        "        trainloaders.append(\n",
        "            DataLoader(for_train, batch_size=batch_size, shuffle=True, num_workers=2)\n",
        "        )\n",
        "        valloaders.append(\n",
        "            DataLoader(for_val, batch_size=batch_size, shuffle=False, num_workers=2)\n",
        "        )\n",
        "\n",
        "    # create dataloader for the test set\n",
        "    testloader = DataLoader(testset, batch_size=128)\n",
        "\n",
        "    return trainloaders, valloaders, testloader"
      ]
    },
    {
      "cell_type": "markdown",
      "metadata": {
        "id": "LtRFn3-l1nf7"
      },
      "source": [
        "Let's create 100 partitions and extract some statistics from one partition\n"
      ]
    },
    {
      "cell_type": "code",
      "execution_count": null,
      "metadata": {
        "colab": {
          "base_uri": "https://localhost:8080/",
          "height": 507
        },
        "outputId": "92a53420-7111-4755-96d7-9c3590e54c9f",
        "id": "F1JEzZvo1nf8"
      },
      "outputs": [
        {
          "output_type": "stream",
          "name": "stdout",
          "text": [
            "number of images: 1016\n"
          ]
        },
        {
          "output_type": "execute_result",
          "data": {
            "text/plain": [
              "Text(0.5, 1.0, 'Class labels distribution for EMNIST')"
            ]
          },
          "metadata": {},
          "execution_count": 14
        },
        {
          "output_type": "display_data",
          "data": {
            "text/plain": [
              "<Figure size 640x480 with 1 Axes>"
            ],
            "image/png": "[encoded data removed]"
          },
          "metadata": {}
        }
      ],
      "source": [
        "trainloaders, valloaders, testloader = prepare_dataset(\n",
        "    num_partitions=100, batch_size=64\n",
        ")\n",
        "\n",
        "# first partition\n",
        "train_partition = trainloaders[0].dataset\n",
        "\n",
        "# count data points\n",
        "partition_indices = train_partition.indices\n",
        "print(f\"number of images: {len(partition_indices)}\")\n",
        "\n",
        "# visualise histogram\n",
        "plt.hist(train_partition.dataset.dataset.targets[partition_indices], bins=47)\n",
        "plt.grid()\n",
        "plt.xticks(range(47))\n",
        "plt.xlabel(\"Label\")\n",
        "plt.ylabel(\"Number of images\")\n",
        "plt.title(\"Class labels distribution for EMNIST\")"
      ]
    },
    {
      "cell_type": "markdown",
      "metadata": {
        "id": "rVk5MzSI1ngB"
      },
      "source": [
        "## Defining a Flower Client\n",
        "\n",
        "You can think of a client in FL as an entity that owns some data and trains a model using this data. The caveat is that the model is being trained _collaboratively_ in Federation by multiple clients (sometimes up to hundreds of thousands) and, in most instances of FL, is sent by a central server.\n",
        "\n",
        "A Flower Client is a simple Python class with four distinct methods:\n",
        "\n",
        "* `fit()`: With this method, the client does on-device training for a number of epochs using its own data. At the end, the resulting model is sent back to the server for aggregation.\n",
        "\n",
        "* `evaluate()`: With this method, the server can evaluate the performance of the global model on the local validation set of a client. This can be used for instance when there is no centralised dataset on the server for validation/test. Also, this method can be use to asses the degree of personalisation of the model being federated.\n",
        "\n",
        "* `set_parameters()`: This method takes the parameters sent by the server and uses them to initialise the parameters of the local model that is ML framework specific (e.g. TF, Pytorch, etc).\n",
        "\n",
        "* `get_parameters()`: It extract the parameters from the local model and transforms them into a list of NumPy arrays. This ML framework-agnostic representation of the model will be sent to the server.\n"
      ]
    },
    {
      "cell_type": "code",
      "execution_count": null,
      "metadata": {
        "id": "2cC-BM2C1ngC"
      },
      "outputs": [],
      "source": [
        "class FlowerClient(fl.client.NumPyClient):\n",
        "    def __init__(self, trainloader, vallodaer) -> None:\n",
        "        super().__init__()\n",
        "\n",
        "        self.trainloader = trainloader\n",
        "        self.valloader = vallodaer\n",
        "        self.model = TutorialNet(num_classes=47)\n",
        "\n",
        "    def set_parameters(self, parameters):\n",
        "        \"\"\"With the model parameters received from the server,\n",
        "        overwrite the uninitialise model in this class with them.\"\"\"\n",
        "\n",
        "        params_dict = zip(self.model.state_dict().keys(), parameters)\n",
        "        state_dict = OrderedDict({k: torch.Tensor(v) for k, v in params_dict})\n",
        "        # now replace the parameters\n",
        "        self.model.load_state_dict(state_dict, strict=True)\n",
        "\n",
        "    def get_parameters(self, config: Dict[str, Scalar]):\n",
        "        \"\"\"Extract all model parameters and convert them to a list of\n",
        "        NumPy arrays. The server doesn't work with PyTorch/TF/etc.\"\"\"\n",
        "        return [val.cpu().numpy() for _, val in self.model.state_dict().items()]\n",
        "\n",
        "    def fit(self, parameters, config):\n",
        "        \"\"\"This method train the model using the parameters sent by the\n",
        "        server on the dataset of this client. At then end, the parameters\n",
        "        of the locally trained model are communicated back to the server\"\"\"\n",
        "\n",
        "        # copy parameters sent by the server into client's local model\n",
        "        self.set_parameters(parameters)\n",
        "\n",
        "        # Define the optimizer -------------------------------------------------------------- Essentially the same as in the centralised example above\n",
        "        optim = torch.optim.SGD(self.model.parameters(), lr=0.01, momentum=0.9)\n",
        "\n",
        "        # do local training  -------------------------------------------------------------- Essentially the same as in the centralised example above (but now using the client's data instead of the whole dataset)\n",
        "        train(self.model, self.trainloader, optim, epochs=1)\n",
        "\n",
        "        # return the model parameters to the server as well as extra info (number of training examples in this case)\n",
        "        return self.get_parameters({}), len(self.trainloader), {}\n",
        "\n",
        "    def evaluate(self, parameters: NDArrays, config: Dict[str, Scalar]):\n",
        "        \"\"\"Evaluate the model sent by the server on this client's\n",
        "        local validation set. Then return performance metrics.\"\"\"\n",
        "\n",
        "        self.set_parameters(parameters)\n",
        "        loss, accuracy = test(\n",
        "            self.model, self.valloader\n",
        "        )  # <-------------------------- calls the `test` function, just what we did in the centralised setting (but this time using the client's local validation set)\n",
        "        # send statistics back to the server\n",
        "\n",
        "        return float(loss), len(self.valloader), {\"accuracy\": accuracy, \"loss\": loss}"
      ]
    },
    {
      "cell_type": "code",
      "source": [
        "# MID functions outside the model, as it is a \"global\"- Calculation for the parameters we put in\n",
        "def calculate_MID(global_distribution):\n",
        "    global_distribution, local_distributions = get_distributions()\n",
        "    N = sum(global_distribution)  # Total number of instances\n",
        "    MID = 0.0\n",
        "    for c in range(NUM_CLASSES):\n",
        "        n_c = global_distribution[c]  # Number of instances in class c\n",
        "        MID += (n_c / float(N)) * math.log(NUM_CLASSES * n_c / float(N), NUM_CLASSES)\n",
        "    return MID\n",
        "\n",
        "def calculate_WCS(global_distribution, local_distributions):\n",
        "    # Calculate WCS\n",
        "    local_sum = []\n",
        "    g_norm_1 = torch.linalg.norm(global_distribution, dim=0, ord=1)\n",
        "    g_norm_2 = torch.linalg.norm(global_distribution, dim=0, ord=2)\n",
        "\n",
        "    for local_distribution in local_distributions:\n",
        "        l_norm_1 = torch.linalg.norm(local_distribution, dim=0, ord=1)\n",
        "        l_norm_2 = torch.linalg.norm(local_distribution, dim=0, ord=2)\n",
        "        local_sum.append((l_norm_1/l_norm_2)*(global_distribution.float().dot(local_distribution)))\n",
        "\n",
        "    # Mathematical definition of the WCS\n",
        "    WCS = (g_norm_1/g_norm_2)*torch.stack(local_sum).sum(dim=0)\n",
        "\n",
        "    return WCS\n",
        "\n",
        "''' Probably unnecessary\n",
        "# Define the WCS\n",
        "# Compute local label distribution vector l_j\n",
        "local_dataset = trainloader\n",
        "local_trainset = local_dataset.targets # Described with according classes\n",
        "num_classes = len(set(local_trainset.numpy().tolist())) # or just NUM_CLASSES\n",
        "local_distribution = torch.zeros(num_classes)\n",
        "\n",
        "for sample in local_trainset:\n",
        "  label = local_trainset[sample]\n",
        "  local_distribution[label] += 1\n",
        "# Normalize the distribution\n",
        "local_distribution /= len(local_trainset)\n",
        "### RETURN STILL MISSING, DONT KNOW HOW TO PUT IT IN THERE WITH SENSE\n",
        "'''\n",
        "\n",
        "'''\n",
        "# WCS (old)\n",
        "\n",
        "def calculate_WCS1(local_distributions, global_distribution):\n",
        "    # Convert input lists to numpy arrays\n",
        "    local_distributions = np.array(local_distributions)\n",
        "    global_distribution = np.array(global_distribution)\n",
        "\n",
        "    # Calculate the total number of samples for each client\n",
        "    k_li_1 = np.sum(local_distributions, axis=1)\n",
        "\n",
        "    # Calculate the total number of samples for the global label distribution\n",
        "    k_L_1 = np.sum(global_distribution)\n",
        "\n",
        "    # Calculate the cosine similarity between L and each l_j\n",
        "    cosine_similarities = np.dot(global_distribution, local_distributions.T) / (\n",
        "        np.linalg.norm(global_distribution) * np.linalg.norm(local_distributions, axis=1)\n",
        "    )\n",
        "\n",
        "    # Calculate WCS\n",
        "    WCS = np.sum(k_li_1 / k_L_1 * cosine_similarities)\n",
        "\n",
        "    return WCS\n",
        "\n",
        "# Example usage:\n",
        "local_distributions = [[2, 0, 0], [0, 4, 0], [0, 0, 6]]\n",
        "global_distribution = [2, 4, 6]\n",
        "\n",
        "result = calculate_WCS(local_distributions, global_distribution)\n",
        "print(f\"WCS value: {result:.6f}\")\n",
        "'''"
      ],
      "metadata": {
        "id": "8oEh29niSdFV",
        "colab": {
          "base_uri": "https://localhost:8080/",
          "height": 244
        },
        "outputId": "dd18489f-ed46-434f-db14-d8fdf6106d93"
      },
      "execution_count": null,
      "outputs": [
        {
          "output_type": "execute_result",
          "data": {
            "text/plain": [
              "'\\n# WCS (old)\\n\\ndef calculate_WCS1(local_distributions, global_distribution):\\n    # Convert input lists to numpy arrays\\n    local_distributions = np.array(local_distributions)\\n    global_distribution = np.array(global_distribution)\\n\\n    # Calculate the total number of samples for each client\\n    k_li_1 = np.sum(local_distributions, axis=1)\\n\\n    # Calculate the total number of samples for the global label distribution\\n    k_L_1 = np.sum(global_distribution)\\n\\n    # Calculate the cosine similarity between L and each l_j\\n    cosine_similarities = np.dot(global_distribution, local_distributions.T) / (\\n        np.linalg.norm(global_distribution) * np.linalg.norm(local_distributions, axis=1)\\n    )\\n\\n    # Calculate WCS\\n    WCS = np.sum(k_li_1 / k_L_1 * cosine_similarities)\\n\\n    return WCS\\n\\n# Example usage:\\nlocal_distributions = [[2, 0, 0], [0, 4, 0], [0, 0, 6]]\\nglobal_distribution = [2, 4, 6]\\n\\nresult = calculate_WCS(local_distributions, global_distribution)\\nprint(f\"WCS value: {result:.6f}\")\\n'"
            ],
            "application/vnd.google.colaboratory.intrinsic+json": {
              "type": "string"
            }
          },
          "metadata": {},
          "execution_count": 16
        }
      ]
    },
    {
      "cell_type": "markdown",
      "metadata": {
        "id": "4ZjcPqtC1ngC"
      },
      "source": [
        " If we fuse the client's fit() and evaluate() methods, we'll end up with essentially the same as in the run_centralised() function we used in the Centralised.\n",
        "\n",
        "## Construction of the Federated Model\n",
        "\n",
        "Steps to run Federated Learning Algorithms:\n",
        "1. Create the dataset partitions of the EMNIST dataset\n",
        "2. Define the Client class\n",
        "3. Define a strategy\n",
        "4. Construct a final function, which is a space to spawn the virtual clients -> Create FlowerClient object, assigning each VC their own data partition"
      ]
    },
    {
      "cell_type": "code",
      "execution_count": null,
      "metadata": {
        "id": "vcwTPoXV1ngC"
      },
      "outputs": [],
      "source": [
        "### TODO: Change evaluate so that it returns 1: the global test set acc, and 2:\n",
        "###       the federated validation acc\n",
        "\n",
        "def get_evalulate_fn(testloader):\n",
        "    \"\"\"This is a function that returns a function. The returned\n",
        "    function (i.e. `evaluate_fn`) will be executed by the strategy\n",
        "    at the end of each round to evaluate the stat of the global\n",
        "    model.\"\"\"\n",
        "\n",
        "    def evaluate_fn(server_round: int, parameters, config):\n",
        "        \"\"\"This function is executed by the strategy it will instantiate\n",
        "        a model and replace its parameters with those from the global model.\n",
        "        The model will be evaluated on the test set.\"\"\"\n",
        "\n",
        "        model = TutorialNet(num_classes=47)\n",
        "\n",
        "        # set parameters to the model\n",
        "        params_dict = zip(model.state_dict().keys(), parameters)\n",
        "        state_dict = OrderedDict({k: torch.Tensor(v) for k, v in params_dict})\n",
        "        model.load_state_dict(state_dict, strict=True)\n",
        "\n",
        "        # call test\n",
        "        loss, accuracy = test(\n",
        "            model, testloader\n",
        "        )  # <-------------------------- calls the `test` function, just what we did in the centralised setting\n",
        "        return loss, {\"accuracy\": accuracy}\n",
        "\n",
        "    return evaluate_fn\n",
        "\n",
        "\n",
        "# now we can define the strategy\n",
        "strategy = fl.server.strategy.FedAvg(\n",
        "    fraction_fit=0.1,  # let's sample 10% of the client each round to do local training\n",
        "    fraction_evaluate=0.2,  # after each round, let's sample 20% of the clients to asses how well the global model is doing\n",
        "    min_available_clients=100,  # total number of clients available in the experiment\n",
        "    evaluate_fn=get_evalulate_fn(testloader),\n",
        ")  # a callback to a function that the strategy can execute to evaluate the state of the global model on a centralised dataset"
      ]
    },
    {
      "cell_type": "markdown",
      "metadata": {
        "id": "6uJitogp1ngD"
      },
      "source": [
        "Create a callback that the Simulation Engine will use to assign the different Virtual Clients. Create a client & assign each to their data partition"
      ]
    },
    {
      "cell_type": "code",
      "execution_count": null,
      "metadata": {
        "id": "oo8KBFN-1ngD"
      },
      "outputs": [],
      "source": [
        "def generate_client_fn(trainloaders, valloaders):\n",
        "    def client_fn(cid: str):\n",
        "        \"\"\"Returns a FlowerClient containing the cid-th data partition\"\"\"\n",
        "\n",
        "        return FlowerClient(\n",
        "            trainloader=trainloaders[int(cid)], vallodaer=valloaders[int(cid)]\n",
        "        ).to_client()\n",
        "\n",
        "    return client_fn\n",
        "\n",
        "\n",
        "client_fn_callback = generate_client_fn(trainloaders, valloaders)"
      ]
    },
    {
      "cell_type": "markdown",
      "metadata": {
        "id": "9_fhdPgk1ngD"
      },
      "source": [
        "**Launch** the experiment"
      ]
    },
    {
      "cell_type": "code",
      "execution_count": null,
      "metadata": {
        "colab": {
          "base_uri": "https://localhost:8080/"
        },
        "outputId": "b09bcfa2-947f-47d2-9830-e7f79f3fa820",
        "id": "lZjLpcQE1ngD"
      },
      "outputs": [
        {
          "output_type": "stream",
          "name": "stderr",
          "text": [
            "INFO flwr 2024-02-12 18:22:37,014 | app.py:178 | Starting Flower simulation, config: ServerConfig(num_rounds=3, round_timeout=None)\n",
            "INFO:flwr:Starting Flower simulation, config: ServerConfig(num_rounds=3, round_timeout=None)\n",
            "/usr/lib/python3.10/subprocess.py:1796: RuntimeWarning: os.fork() was called. os.fork() is incompatible with multithreaded code, and JAX is multithreaded, so this will likely lead to a deadlock.\n",
            "  self.pid = _posixsubprocess.fork_exec(\n",
            "2024-02-12 18:22:41,644\tINFO worker.py:1621 -- Started a local Ray instance.\n",
            "INFO flwr 2024-02-12 18:22:45,120 | app.py:213 | Flower VCE: Ray initialized with resources: {'node:__internal_head__': 1.0, 'node:172.28.0.12': 1.0, 'CPU': 2.0, 'object_store_memory': 3941912985.0, 'memory': 7883825972.0}\n",
            "INFO:flwr:Flower VCE: Ray initialized with resources: {'node:__internal_head__': 1.0, 'node:172.28.0.12': 1.0, 'CPU': 2.0, 'object_store_memory': 3941912985.0, 'memory': 7883825972.0}\n",
            "INFO flwr 2024-02-12 18:22:45,130 | app.py:219 | Optimize your simulation with Flower VCE: https://flower.dev/docs/framework/how-to-run-simulations.html\n",
            "INFO:flwr:Optimize your simulation with Flower VCE: https://flower.dev/docs/framework/how-to-run-simulations.html\n",
            "INFO flwr 2024-02-12 18:22:45,145 | app.py:227 | No `client_resources` specified. Using minimal resources for clients.\n",
            "INFO:flwr:No `client_resources` specified. Using minimal resources for clients.\n",
            "INFO flwr 2024-02-12 18:22:45,159 | app.py:242 | Flower VCE: Resources for each Virtual Client: {'num_cpus': 1, 'num_gpus': 0.0}\n",
            "INFO:flwr:Flower VCE: Resources for each Virtual Client: {'num_cpus': 1, 'num_gpus': 0.0}\n",
            "INFO flwr 2024-02-12 18:22:45,222 | app.py:288 | Flower VCE: Creating VirtualClientEngineActorPool with 2 actors\n",
            "INFO:flwr:Flower VCE: Creating VirtualClientEngineActorPool with 2 actors\n",
            "INFO flwr 2024-02-12 18:22:45,228 | server.py:89 | Initializing global parameters\n",
            "INFO:flwr:Initializing global parameters\n",
            "INFO flwr 2024-02-12 18:22:45,231 | server.py:276 | Requesting initial parameters from one random client\n",
            "INFO:flwr:Requesting initial parameters from one random client\n",
            "\u001b[2m\u001b[36m(pid=4867)\u001b[0m 2024-02-12 18:22:49.330118: E external/local_xla/xla/stream_executor/cuda/cuda_dnn.cc:9261] Unable to register cuDNN factory: Attempting to register factory for plugin cuDNN when one has already been registered\n",
            "\u001b[2m\u001b[36m(pid=4867)\u001b[0m 2024-02-12 18:22:49.330792: E external/local_xla/xla/stream_executor/cuda/cuda_fft.cc:607] Unable to register cuFFT factory: Attempting to register factory for plugin cuFFT when one has already been registered\n",
            "\u001b[2m\u001b[36m(pid=4867)\u001b[0m 2024-02-12 18:22:49.335272: E external/local_xla/xla/stream_executor/cuda/cuda_blas.cc:1515] Unable to register cuBLAS factory: Attempting to register factory for plugin cuBLAS when one has already been registered\n",
            "\u001b[2m\u001b[36m(pid=4867)\u001b[0m 2024-02-12 18:22:51.760032: W tensorflow/compiler/tf2tensorrt/utils/py_utils.cc:38] TF-TRT Warning: Could not find TensorRT\n",
            "INFO flwr 2024-02-12 18:23:00,140 | server.py:280 | Received initial parameters from one random client\n",
            "INFO:flwr:Received initial parameters from one random client\n",
            "INFO flwr 2024-02-12 18:23:00,144 | server.py:91 | Evaluating initial parameters\n",
            "INFO:flwr:Evaluating initial parameters\n",
            "INFO flwr 2024-02-12 18:23:05,109 | server.py:94 | initial parameters (loss, other metrics): 566.575710773468, {'accuracy': 0.020797872340425533}\n",
            "INFO:flwr:initial parameters (loss, other metrics): 566.575710773468, {'accuracy': 0.020797872340425533}\n",
            "INFO flwr 2024-02-12 18:23:05,114 | server.py:104 | FL starting\n",
            "INFO:flwr:FL starting\n",
            "DEBUG flwr 2024-02-12 18:23:05,121 | server.py:222 | fit_round 1: strategy sampled 10 clients (out of 100)\n",
            "DEBUG:flwr:fit_round 1: strategy sampled 10 clients (out of 100)\n",
            "\u001b[2m\u001b[36m(DefaultActor pid=4867)\u001b[0m /usr/lib/python3.10/multiprocessing/popen_fork.py:66: RuntimeWarning: os.fork() was called. os.fork() is incompatible with multithreaded code, and JAX is multithreaded, so this will likely lead to a deadlock.\n",
            "\u001b[2m\u001b[36m(DefaultActor pid=4867)\u001b[0m   self.pid = os.fork()\n",
            "\u001b[2m\u001b[36m(pid=4865)\u001b[0m 2024-02-12 18:22:49.330118: E external/local_xla/xla/stream_executor/cuda/cuda_dnn.cc:9261] Unable to register cuDNN factory: Attempting to register factory for plugin cuDNN when one has already been registered\n",
            "\u001b[2m\u001b[36m(pid=4865)\u001b[0m 2024-02-12 18:22:49.330230: E external/local_xla/xla/stream_executor/cuda/cuda_fft.cc:607] Unable to register cuFFT factory: Attempting to register factory for plugin cuFFT when one has already been registered\n",
            "\u001b[2m\u001b[36m(pid=4865)\u001b[0m 2024-02-12 18:22:49.335272: E external/local_xla/xla/stream_executor/cuda/cuda_blas.cc:1515] Unable to register cuBLAS factory: Attempting to register factory for plugin cuBLAS when one has already been registered\n",
            "\u001b[2m\u001b[36m(pid=4865)\u001b[0m 2024-02-12 18:22:51.758952: W tensorflow/compiler/tf2tensorrt/utils/py_utils.cc:38] TF-TRT Warning: Could not find TensorRT\n",
            "\u001b[2m\u001b[36m(DefaultActor pid=4865)\u001b[0m /usr/lib/python3.10/multiprocessing/popen_fork.py:66: RuntimeWarning: os.fork() was called. os.fork() is incompatible with multithreaded code, and JAX is multithreaded, so this will likely lead to a deadlock.\n",
            "\u001b[2m\u001b[36m(DefaultActor pid=4865)\u001b[0m   self.pid = os.fork()\n",
            "DEBUG flwr 2024-02-12 18:23:17,790 | server.py:236 | fit_round 1 received 10 results and 0 failures\n",
            "DEBUG:flwr:fit_round 1 received 10 results and 0 failures\n",
            "WARNING flwr 2024-02-12 18:23:17,820 | fedavg.py:250 | No fit_metrics_aggregation_fn provided\n",
            "WARNING:flwr:No fit_metrics_aggregation_fn provided\n",
            "INFO flwr 2024-02-12 18:23:22,864 | server.py:125 | fit progress: (1, 565.5601518154144, {'accuracy': 0.029361702127659574}, 17.74325253799998)\n",
            "INFO:flwr:fit progress: (1, 565.5601518154144, {'accuracy': 0.029361702127659574}, 17.74325253799998)\n",
            "DEBUG flwr 2024-02-12 18:23:22,868 | server.py:173 | evaluate_round 1: strategy sampled 20 clients (out of 100)\n",
            "DEBUG:flwr:evaluate_round 1: strategy sampled 20 clients (out of 100)\n",
            "DEBUG flwr 2024-02-12 18:23:33,224 | server.py:187 | evaluate_round 1 received 20 results and 0 failures\n",
            "DEBUG:flwr:evaluate_round 1 received 20 results and 0 failures\n",
            "WARNING flwr 2024-02-12 18:23:33,228 | fedavg.py:281 | No evaluate_metrics_aggregation_fn provided\n",
            "WARNING:flwr:No evaluate_metrics_aggregation_fn provided\n",
            "DEBUG flwr 2024-02-12 18:23:33,230 | server.py:222 | fit_round 2: strategy sampled 10 clients (out of 100)\n",
            "DEBUG:flwr:fit_round 2: strategy sampled 10 clients (out of 100)\n",
            "DEBUG flwr 2024-02-12 18:23:44,620 | server.py:236 | fit_round 2 received 10 results and 0 failures\n",
            "DEBUG:flwr:fit_round 2 received 10 results and 0 failures\n",
            "INFO flwr 2024-02-12 18:23:49,613 | server.py:125 | fit progress: (2, 564.4355916976929, {'accuracy': 0.03664893617021277}, 44.492304400999956)\n",
            "INFO:flwr:fit progress: (2, 564.4355916976929, {'accuracy': 0.03664893617021277}, 44.492304400999956)\n",
            "DEBUG flwr 2024-02-12 18:23:49,620 | server.py:173 | evaluate_round 2: strategy sampled 20 clients (out of 100)\n",
            "DEBUG:flwr:evaluate_round 2: strategy sampled 20 clients (out of 100)\n",
            "DEBUG flwr 2024-02-12 18:24:00,421 | server.py:187 | evaluate_round 2 received 20 results and 0 failures\n",
            "DEBUG:flwr:evaluate_round 2 received 20 results and 0 failures\n",
            "DEBUG flwr 2024-02-12 18:24:00,424 | server.py:222 | fit_round 3: strategy sampled 10 clients (out of 100)\n",
            "DEBUG:flwr:fit_round 3: strategy sampled 10 clients (out of 100)\n",
            "DEBUG flwr 2024-02-12 18:24:09,789 | server.py:236 | fit_round 3 received 10 results and 0 failures\n",
            "DEBUG:flwr:fit_round 3 received 10 results and 0 failures\n",
            "INFO flwr 2024-02-12 18:24:14,722 | server.py:125 | fit progress: (3, 562.9666221141815, {'accuracy': 0.04824468085106383}, 69.60155239300002)\n",
            "INFO:flwr:fit progress: (3, 562.9666221141815, {'accuracy': 0.04824468085106383}, 69.60155239300002)\n",
            "DEBUG flwr 2024-02-12 18:24:14,729 | server.py:173 | evaluate_round 3: strategy sampled 20 clients (out of 100)\n",
            "DEBUG:flwr:evaluate_round 3: strategy sampled 20 clients (out of 100)\n",
            "DEBUG flwr 2024-02-12 18:24:24,226 | server.py:187 | evaluate_round 3 received 20 results and 0 failures\n",
            "DEBUG:flwr:evaluate_round 3 received 20 results and 0 failures\n",
            "INFO flwr 2024-02-12 18:24:24,234 | server.py:153 | FL finished in 79.11337400299999\n",
            "INFO:flwr:FL finished in 79.11337400299999\n",
            "INFO flwr 2024-02-12 18:24:24,238 | app.py:226 | app_fit: losses_distributed [(1, 7.695486760139465), (2, 7.676807761192322), (3, 7.656172430515289)]\n",
            "INFO:flwr:app_fit: losses_distributed [(1, 7.695486760139465), (2, 7.676807761192322), (3, 7.656172430515289)]\n",
            "INFO flwr 2024-02-12 18:24:24,240 | app.py:227 | app_fit: metrics_distributed_fit {}\n",
            "INFO:flwr:app_fit: metrics_distributed_fit {}\n",
            "INFO flwr 2024-02-12 18:24:24,243 | app.py:228 | app_fit: metrics_distributed {}\n",
            "INFO:flwr:app_fit: metrics_distributed {}\n",
            "INFO flwr 2024-02-12 18:24:24,245 | app.py:229 | app_fit: losses_centralized [(0, 566.575710773468), (1, 565.5601518154144), (2, 564.4355916976929), (3, 562.9666221141815)]\n",
            "INFO:flwr:app_fit: losses_centralized [(0, 566.575710773468), (1, 565.5601518154144), (2, 564.4355916976929), (3, 562.9666221141815)]\n",
            "INFO flwr 2024-02-12 18:24:24,248 | app.py:230 | app_fit: metrics_centralized {'accuracy': [(0, 0.020797872340425533), (1, 0.029361702127659574), (2, 0.03664893617021277), (3, 0.04824468085106383)]}\n",
            "INFO:flwr:app_fit: metrics_centralized {'accuracy': [(0, 0.020797872340425533), (1, 0.029361702127659574), (2, 0.03664893617021277), (3, 0.04824468085106383)]}\n"
          ]
        }
      ],
      "source": [
        "history = fl.simulation.start_simulation(\n",
        "    client_fn=client_fn_callback,  # a callback to construct a client\n",
        "    num_clients=100,  # total number of clients in the experiment\n",
        "    config=fl.server.ServerConfig(num_rounds=3),  # let's run for 10 rounds\n",
        "    strategy=strategy,  # the strategy that will orchestrate the whole FL pipeline\n",
        ")"
      ]
    },
    {
      "cell_type": "markdown",
      "metadata": {
        "id": "Sxf1c1Gy1ngE"
      },
      "source": [
        "Below you can see how you can plot the centralised accuracy obtained at the end of each round (including at the very beginning of the experiment) for the _global model_."
      ]
    },
    {
      "cell_type": "code",
      "execution_count": null,
      "metadata": {
        "colab": {
          "base_uri": "https://localhost:8080/",
          "height": 910
        },
        "outputId": "75af768b-7623-4886-a9e5-5911b97c3bf9",
        "id": "J0Hmxdwj1ngE"
      },
      "outputs": [
        {
          "output_type": "stream",
          "name": "stderr",
          "text": [
            "/usr/local/lib/python3.10/dist-packages/ipykernel/ipkernel.py:283: DeprecationWarning: `should_run_async` will not call `transform_cell` automatically in the future. Please pass the result to `transformed_cell` argument and any exception that happen during thetransform in `preprocessing_exc_tuple` in IPython 7.17 and above.\n",
            "  and should_run_async(code)\n"
          ]
        },
        {
          "output_type": "stream",
          "name": "stdout",
          "text": [
            "Mounted at /content/drive\n",
            "history.metrics_centralized = {'accuracy': [(0, 0.020797872340425533), (1, 0.029361702127659574), (2, 0.03664893617021277), (3, 0.04824468085106383)]}\n"
          ]
        },
        {
          "output_type": "display_data",
          "data": {
            "text/plain": [
              "<Figure size 640x480 with 1 Axes>"
            ],
            "image/png": "[encoded data removed]"
          },
          "metadata": {}
        },
        {
          "output_type": "error",
          "ename": "NameError",
          "evalue": "name 'get_distributions' is not defined",
          "traceback": [
            "\u001b[0;31m---------------------------------------------------------------------------\u001b[0m",
            "\u001b[0;31mNameError\u001b[0m                                 Traceback (most recent call last)",
            "\u001b[0;32m<ipython-input-20-14c1e7ea5370>\u001b[0m in \u001b[0;36m<cell line: 18>\u001b[0;34m()\u001b[0m\n\u001b[1;32m     16\u001b[0m \u001b[0;34m\u001b[0m\u001b[0m\n\u001b[1;32m     17\u001b[0m \u001b[0;31m# MID Value\u001b[0m\u001b[0;34m\u001b[0m\u001b[0;34m\u001b[0m\u001b[0m\n\u001b[0;32m---> 18\u001b[0;31m \u001b[0mresult\u001b[0m \u001b[0;34m=\u001b[0m \u001b[0mcalculate_MID\u001b[0m\u001b[0;34m(\u001b[0m\u001b[0mtrainset\u001b[0m\u001b[0;34m)\u001b[0m\u001b[0;34m\u001b[0m\u001b[0;34m\u001b[0m\u001b[0m\n\u001b[0m\u001b[1;32m     19\u001b[0m \u001b[0mprint\u001b[0m\u001b[0;34m(\u001b[0m\u001b[0;34mf\"MID value: {result:.6f}\"\u001b[0m\u001b[0;34m)\u001b[0m\u001b[0;34m\u001b[0m\u001b[0;34m\u001b[0m\u001b[0m\n",
            "\u001b[0;32m<ipython-input-16-9c0941316664>\u001b[0m in \u001b[0;36mcalculate_MID\u001b[0;34m(global_distribution)\u001b[0m\n\u001b[1;32m      1\u001b[0m \u001b[0;31m# MID functions outside the model, as it is a \"global\"- Calculation for the parameters we put in\u001b[0m\u001b[0;34m\u001b[0m\u001b[0;34m\u001b[0m\u001b[0m\n\u001b[1;32m      2\u001b[0m \u001b[0;32mdef\u001b[0m \u001b[0mcalculate_MID\u001b[0m\u001b[0;34m(\u001b[0m\u001b[0mglobal_distribution\u001b[0m\u001b[0;34m)\u001b[0m\u001b[0;34m:\u001b[0m\u001b[0;34m\u001b[0m\u001b[0;34m\u001b[0m\u001b[0m\n\u001b[0;32m----> 3\u001b[0;31m     \u001b[0mglobal_distribution\u001b[0m\u001b[0;34m,\u001b[0m \u001b[0mlocal_distributions\u001b[0m \u001b[0;34m=\u001b[0m \u001b[0mget_distributions\u001b[0m\u001b[0;34m(\u001b[0m\u001b[0;34m)\u001b[0m\u001b[0;34m\u001b[0m\u001b[0;34m\u001b[0m\u001b[0m\n\u001b[0m\u001b[1;32m      4\u001b[0m     \u001b[0mN\u001b[0m \u001b[0;34m=\u001b[0m \u001b[0msum\u001b[0m\u001b[0;34m(\u001b[0m\u001b[0mglobal_distribution\u001b[0m\u001b[0;34m)\u001b[0m  \u001b[0;31m# Total number of instances\u001b[0m\u001b[0;34m\u001b[0m\u001b[0;34m\u001b[0m\u001b[0m\n\u001b[1;32m      5\u001b[0m     \u001b[0mMID\u001b[0m \u001b[0;34m=\u001b[0m \u001b[0;36m0.0\u001b[0m\u001b[0;34m\u001b[0m\u001b[0;34m\u001b[0m\u001b[0m\n",
            "\u001b[0;31mNameError\u001b[0m: name 'get_distributions' is not defined"
          ]
        }
      ],
      "source": [
        "drive.mount('/content/drive')\n",
        "\n",
        "print(f\"{history.metrics_centralized = }\")\n",
        "\n",
        "global_accuracy_centralised = history.metrics_centralized[\"accuracy\"]\n",
        "\n",
        "round = [data[0] for data in global_accuracy_centralised]\n",
        "acc = [100.0 * data[1] for data in global_accuracy_centralised]\n",
        "plt.plot(round, acc)\n",
        "plt.grid()\n",
        "plt.ylabel(\"Accuracy (%)\")\n",
        "plt.xlabel(\"Round\")\n",
        "plt.title(\"EMNIST - IID - 100 clients with 10 clients per round\")\n",
        "plt.savefig(f'/content/drive/My Drive/LAMA_ItW/Model_{np.random.randint(10000)}.png')\n",
        "plt.show()\n",
        "\n",
        "# MID Value\n",
        "result = calculate_MID(trainset)\n",
        "print(f\"MID value: {result:.6f}\")"
      ]
    }
  ],
  "metadata": {
    "colab": {
      "provenance": [],
      "collapsed_sections": [
        "v1684V03m5Wl",
        "BrtF9COQX_uh",
        "WKs3RWro1nf3",
        "w7M57_yT1nf6",
        "RhPm_Ufq1nf7",
        "rVk5MzSI1ngB"
      ]
    },
    "kernelspec": {
      "display_name": "Python 3",
      "name": "python3"
    }
  },
  "nbformat": 4,
  "nbformat_minor": 0
}